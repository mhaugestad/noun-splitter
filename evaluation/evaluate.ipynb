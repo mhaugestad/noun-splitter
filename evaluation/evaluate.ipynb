{
 "cells": [
  {
   "cell_type": "code",
   "execution_count": 54,
   "metadata": {},
   "outputs": [],
   "source": [
    "from secos import Decomposition\n",
    "import pandas as pd\n",
    "import urllib.request\n",
    "import tarfile\n",
    "import subprocess\n",
    "import os\n",
    "import warnings\n",
    "import numpy as np\n",
    "\n",
    "warnings.filterwarnings(\"ignore\", message=\"Mean of empty slice\", category=RuntimeWarning)\n",
    "warnings.filterwarnings(\"ignore\", message=\"invalid value encountered in scalar divide\", category=RuntimeWarning)"
   ]
  },
  {
   "cell_type": "code",
   "execution_count": 11,
   "metadata": {},
   "outputs": [],
   "source": [
    "url = 'http://ltdata1.informatik.uni-hamburg.de/SECOS/datasets/wiktionary_compounds.tar.gz'\n",
    "urllib.request.urlretrieve(url, \"evaluation.tar.gz\")"
   ]
  },
  {
   "cell_type": "code",
   "execution_count": 26,
   "metadata": {},
   "outputs": [],
   "source": [
    "os.makedirs(\"wiktionary\", exist_ok=True)\n",
    "\n",
    "with tarfile.open(\"evaluation.tar.gz\", \"r:gz\") as tar:\n",
    "    tar.extractall(\"wiktionary\")"
   ]
  },
  {
   "cell_type": "code",
   "execution_count": 57,
   "metadata": {},
   "outputs": [],
   "source": [
    "langmap = {\n",
    "    \"da\": \"Danish\",\n",
    "    \"de\": \"German\",\n",
    "    \"en\": \"English\",\n",
    "    \"es\": \"Spanish\",\n",
    "    \"et\": \"Estonian\",\n",
    "    \"fi\": \"Finnish\",\n",
    "    \"hu\": \"Hungarian\",\n",
    "    \"la\": \"Latin\",\n",
    "    \"lv\": \"Latvian\",\n",
    "    \"nl\": \"Dutch\",\n",
    "    \"no\": \"Norwegian\",\n",
    "    \"sv\": \"Swedish\"\n",
    "}"
   ]
  },
  {
   "cell_type": "code",
   "execution_count": 59,
   "metadata": {},
   "outputs": [
    {
     "name": "stdout",
     "output_type": "stream",
     "text": [
      "Precision and Recall are defined as usual: Precision is obtained by dividing\n",
      "the number of correct splits by the number of splits taken by the method, recall is\n",
      "the number of correct splits divided by the total number of splits in the evaluation\n",
      "set. We further report results in the F1 measure, which is the harmonic mean of\n",
      "Precision and Recall.\n"
     ]
    }
   ],
   "source": [
    "print(\"\"\"\\\n",
    "Precision and Recall are defined as usual: Precision is obtained by dividing\n",
    "the number of correct splits by the number of splits taken by the method, recall is\n",
    "the number of correct splits divided by the total number of splits in the evaluation\n",
    "set. We further report results in the F1 measure, which is the harmonic mean of\n",
    "Precision and Recall.\\\n",
    "\"\"\")"
   ]
  },
  {
   "cell_type": "code",
   "execution_count": 58,
   "metadata": {},
   "outputs": [
    {
     "name": "stderr",
     "output_type": "stream",
     "text": [
      "100%|██████████| 16.0M/16.0M [00:00<00:00, 17.9MB/s]\n"
     ]
    },
    {
     "name": "stdout",
     "output_type": "stream",
     "text": [
      "Download completed!\n",
      "da Danish\n",
      "--------------------------------------------------\n"
     ]
    },
    {
     "name": "stderr",
     "output_type": "stream",
     "text": [
      "Precision\tRecall\tF1\n",
      "0.705882\t0.687747\t0.696697\n",
      "    0.7059 &     0.6877&    0.6967\n",
      "Considered\tCorrect\tPercentage of Correct ones\n",
      "493.000000\t186.000000\t0.377282\n",
      "\n"
     ]
    },
    {
     "name": "stdout",
     "output_type": "stream",
     "text": [
      "--------------------------------------------------\n"
     ]
    },
    {
     "name": "stderr",
     "output_type": "stream",
     "text": [
      "100%|██████████| 166M/166M [00:09<00:00, 17.8MB/s] \n"
     ]
    },
    {
     "name": "stdout",
     "output_type": "stream",
     "text": [
      "Download completed!\n",
      "de German\n",
      "--------------------------------------------------\n"
     ]
    },
    {
     "name": "stderr",
     "output_type": "stream",
     "text": [
      "Precision\tRecall\tF1\n",
      "0.801512\t0.758380\t0.779350\n",
      "    0.8015 &     0.7584&    0.7793\n",
      "Considered\tCorrect\tPercentage of Correct ones\n",
      "5688.000000\t3108.000000\t0.546414\n",
      "\n"
     ]
    },
    {
     "name": "stdout",
     "output_type": "stream",
     "text": [
      "--------------------------------------------------\n"
     ]
    },
    {
     "name": "stderr",
     "output_type": "stream",
     "text": [
      "100%|██████████| 32.8M/32.8M [00:01<00:00, 29.8MB/s]\n"
     ]
    },
    {
     "name": "stdout",
     "output_type": "stream",
     "text": [
      "Download completed!\n",
      "en English\n",
      "--------------------------------------------------\n"
     ]
    },
    {
     "name": "stderr",
     "output_type": "stream",
     "text": [
      "Precision\tRecall\tF1\n",
      "0.750104\t0.732869\t0.741386\n",
      "    0.7501 &     0.7329&    0.7414\n",
      "Considered\tCorrect\tPercentage of Correct ones\n",
      "10865.000000\t5323.000000\t0.489922\n",
      "\n"
     ]
    },
    {
     "name": "stdout",
     "output_type": "stream",
     "text": [
      "--------------------------------------------------\n"
     ]
    },
    {
     "name": "stderr",
     "output_type": "stream",
     "text": [
      "100%|██████████| 37.7M/37.7M [00:01<00:00, 26.6MB/s]\n"
     ]
    },
    {
     "name": "stdout",
     "output_type": "stream",
     "text": [
      "Download completed!\n",
      "es Spanish\n",
      "--------------------------------------------------\n"
     ]
    },
    {
     "name": "stderr",
     "output_type": "stream",
     "text": [
      "Precision\tRecall\tF1\n",
      "0.688776\t0.671642\t0.680101\n",
      "    0.6888 &     0.6716&    0.6801\n",
      "Considered\tCorrect\tPercentage of Correct ones\n",
      "98.000000\t37.000000\t0.377551\n",
      "\n"
     ]
    },
    {
     "name": "stdout",
     "output_type": "stream",
     "text": [
      "--------------------------------------------------\n"
     ]
    },
    {
     "name": "stderr",
     "output_type": "stream",
     "text": [
      "100%|██████████| 18.6M/18.6M [00:01<00:00, 14.0MB/s]\n"
     ]
    },
    {
     "name": "stdout",
     "output_type": "stream",
     "text": [
      "Download completed!\n",
      "et Estonian\n",
      "--------------------------------------------------\n"
     ]
    },
    {
     "name": "stderr",
     "output_type": "stream",
     "text": [
      "Precision\tRecall\tF1\n",
      "0.653689\t0.644444\t0.649034\n",
      "    0.6537 &     0.6444&    0.6490\n",
      "Considered\tCorrect\tPercentage of Correct ones\n",
      "244.000000\t75.000000\t0.307377\n",
      "\n"
     ]
    },
    {
     "name": "stdout",
     "output_type": "stream",
     "text": [
      "--------------------------------------------------\n"
     ]
    },
    {
     "name": "stderr",
     "output_type": "stream",
     "text": [
      "100%|██████████| 42.7M/42.7M [00:01<00:00, 29.3MB/s]\n"
     ]
    },
    {
     "name": "stdout",
     "output_type": "stream",
     "text": [
      "Download completed!\n",
      "fi Finnish\n",
      "--------------------------------------------------\n"
     ]
    },
    {
     "name": "stderr",
     "output_type": "stream",
     "text": [
      "Precision\tRecall\tF1\n",
      "0.793124\t0.739154\t0.765189\n",
      "    0.7931 &     0.7392&    0.7652\n",
      "Considered\tCorrect\tPercentage of Correct ones\n",
      "11052.000000\t5686.000000\t0.514477\n",
      "\n"
     ]
    },
    {
     "name": "stdout",
     "output_type": "stream",
     "text": [
      "--------------------------------------------------\n"
     ]
    },
    {
     "name": "stderr",
     "output_type": "stream",
     "text": [
      "100%|██████████| 52.1M/52.1M [00:03<00:00, 16.9MB/s]\n"
     ]
    },
    {
     "name": "stdout",
     "output_type": "stream",
     "text": [
      "Download completed!\n",
      "hu Hungarian\n",
      "--------------------------------------------------\n"
     ]
    },
    {
     "name": "stderr",
     "output_type": "stream",
     "text": [
      "Precision\tRecall\tF1\n",
      "0.728800\t0.719021\t0.723878\n",
      "    0.7288 &     0.7190&    0.7239\n",
      "Considered\tCorrect\tPercentage of Correct ones\n",
      "625.000000\t283.000000\t0.452800\n",
      "\n"
     ]
    },
    {
     "name": "stdout",
     "output_type": "stream",
     "text": [
      "--------------------------------------------------\n"
     ]
    },
    {
     "name": "stderr",
     "output_type": "stream",
     "text": [
      "100%|██████████| 5.94M/5.94M [00:00<00:00, 15.1MB/s]\n"
     ]
    },
    {
     "name": "stdout",
     "output_type": "stream",
     "text": [
      "Download completed!\n",
      "la Latin\n",
      "--------------------------------------------------\n"
     ]
    },
    {
     "name": "stderr",
     "output_type": "stream",
     "text": [
      "Precision\tRecall\tF1\n",
      "0.566327\t0.563452\t0.564885\n",
      "    0.5663 &     0.5635&    0.5649\n",
      "Considered\tCorrect\tPercentage of Correct ones\n",
      "98.000000\t13.000000\t0.132653\n",
      "\n"
     ]
    },
    {
     "name": "stdout",
     "output_type": "stream",
     "text": [
      "--------------------------------------------------\n"
     ]
    },
    {
     "name": "stderr",
     "output_type": "stream",
     "text": [
      "100%|██████████| 9.36M/9.36M [00:00<00:00, 19.2MB/s]\n"
     ]
    },
    {
     "name": "stdout",
     "output_type": "stream",
     "text": [
      "Download completed!\n",
      "lv Latvian\n",
      "--------------------------------------------------\n"
     ]
    },
    {
     "name": "stderr",
     "output_type": "stream",
     "text": [
      "Precision\tRecall\tF1\n",
      "0.622024\t0.609329\t0.615611\n",
      "    0.6220 &     0.6093&    0.6156\n",
      "Considered\tCorrect\tPercentage of Correct ones\n",
      "168.000000\t36.000000\t0.214286\n",
      "\n"
     ]
    },
    {
     "name": "stdout",
     "output_type": "stream",
     "text": [
      "--------------------------------------------------\n"
     ]
    },
    {
     "name": "stderr",
     "output_type": "stream",
     "text": [
      "100%|██████████| 34.6M/34.6M [00:01<00:00, 26.6MB/s]\n"
     ]
    },
    {
     "name": "stdout",
     "output_type": "stream",
     "text": [
      "Download completed!\n",
      "nl Dutch\n",
      "--------------------------------------------------\n"
     ]
    },
    {
     "name": "stderr",
     "output_type": "stream",
     "text": [
      "Precision\tRecall\tF1\n",
      "0.788689\t0.762115\t0.775174\n",
      "    0.7887 &     0.7621&    0.7752\n",
      "Considered\tCorrect\tPercentage of Correct ones\n",
      "4058.000000\t2208.000000\t0.544110\n",
      "\n"
     ]
    },
    {
     "name": "stdout",
     "output_type": "stream",
     "text": [
      "--------------------------------------------------\n"
     ]
    },
    {
     "name": "stderr",
     "output_type": "stream",
     "text": [
      "100%|██████████| 24.0M/24.0M [00:01<00:00, 18.6MB/s]\n"
     ]
    },
    {
     "name": "stdout",
     "output_type": "stream",
     "text": [
      "Download completed!\n",
      "no Norwegian\n",
      "--------------------------------------------------\n"
     ]
    },
    {
     "name": "stderr",
     "output_type": "stream",
     "text": [
      "Precision\tRecall\tF1\n",
      "0.621951\t0.566667\t0.593023\n",
      "    0.6220 &     0.5667&    0.5930\n",
      "Considered\tCorrect\tPercentage of Correct ones\n",
      "41.000000\t7.000000\t0.170732\n",
      "\n"
     ]
    },
    {
     "name": "stdout",
     "output_type": "stream",
     "text": [
      "--------------------------------------------------\n"
     ]
    },
    {
     "name": "stderr",
     "output_type": "stream",
     "text": [
      "100%|██████████| 32.6M/32.6M [00:01<00:00, 19.7MB/s]\n"
     ]
    },
    {
     "name": "stdout",
     "output_type": "stream",
     "text": [
      "Download completed!\n",
      "sv Swedish\n",
      "--------------------------------------------------\n",
      "--------------------------------------------------\n"
     ]
    },
    {
     "name": "stderr",
     "output_type": "stream",
     "text": [
      "Precision\tRecall\tF1\n",
      "0.753323\t0.726621\t0.739731\n",
      "    0.7533 &     0.7266&    0.7397\n",
      "Considered\tCorrect\tPercentage of Correct ones\n",
      "1279.000000\t610.000000\t0.476935\n",
      "\n"
     ]
    }
   ],
   "source": [
    "for key, value in langmap.items():\n",
    "    Decomposition.download_model(key, overwrite=True)\n",
    "    model = Decomposition.load_model(key)\n",
    "    secos = Decomposition(model)\n",
    "\n",
    "    with open(f\"./wiktionary/{value}_downloaded\", \"r\") as f:\n",
    "        gold_standard = []\n",
    "        words = []\n",
    "        for line in f.readlines():\n",
    "            w,s = line.lower().split(\"\\t\")[0:2]\n",
    "            gold_standard.append(s.strip())\n",
    "            words.append(w.strip())\n",
    "    \n",
    "    predictions = []\n",
    "    for word in words:\n",
    "        predictions.append('-'.join(secos.decompose(word)))\n",
    "\n",
    "    os.makedirs(\"./output\", exist_ok=True)\n",
    "    with open(f\"./output/{key}.txt\", \"w\") as f:\n",
    "        for word, gold, prediction in zip(words, gold_standard, predictions):\n",
    "            f.write(f\"{word}\\t{gold}\\t{prediction}\\n\")\n",
    "\n",
    "    print(key, value)\n",
    "    print(\"-\"*50)\n",
    "\n",
    "    cmd = f\"\"\"\\\n",
    "          cat output/{key}.txt | python eval_decompounding.py 1 2\\\n",
    "          \"\"\"\n",
    "    process = subprocess.Popen(\n",
    "        (\"conda run -n secos \" + cmd).split(), stdout=subprocess.PIPE\n",
    "    )\n",
    "    output, error = process.communicate()\n",
    "\n",
    "    print(\"-\"*50)"
   ]
  }
 ],
 "metadata": {
  "kernelspec": {
   "display_name": "Python 3.8.5 ('base')",
   "language": "python",
   "name": "python3"
  },
  "language_info": {
   "codemirror_mode": {
    "name": "ipython",
    "version": 3
   },
   "file_extension": ".py",
   "mimetype": "text/x-python",
   "name": "python",
   "nbconvert_exporter": "python",
   "pygments_lexer": "ipython3",
   "version": "3.9.16"
  },
  "orig_nbformat": 4,
  "vscode": {
   "interpreter": {
    "hash": "ff4d151e5aa95e1153eb3b13a0b3af920f4d3e459b90b93576523291a566331d"
   }
  }
 },
 "nbformat": 4,
 "nbformat_minor": 2
}
